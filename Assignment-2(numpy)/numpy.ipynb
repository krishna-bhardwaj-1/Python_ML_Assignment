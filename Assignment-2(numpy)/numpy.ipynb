{
 "cells": [
  {
   "cell_type": "markdown",
   "id": "ada47e62",
   "metadata": {},
   "source": [
    "Part-I Numpy Questions\n",
    "Objective:\n",
    "To build a strong foundation in using NumPy for numerical computations,\n",
    "including creating arrays, performing operations, and leveraging its\n",
    "powerful functionalities."
   ]
  },
  {
   "cell_type": "markdown",
   "id": "00a3566b",
   "metadata": {},
   "source": [
    "Task 1: Creating Arrays\n",
    "1. Write a Python program to:\n",
    "--> Create a 1D NumPy array of 10 integers ranging from 1 to 10.\n",
    "--> Create a 2D NumPy array of shape (3, 3) with integers from 1 to 9.\n",
    "--> Create a 3D NumPy array with random floating-point numbers of shape (3, 5, 3).\n",
    "2. Display the shape, size, and datatype of each array"
   ]
  },
  {
   "cell_type": "code",
   "execution_count": 1,
   "id": "a0831d25",
   "metadata": {},
   "outputs": [
    {
     "name": "stdout",
     "output_type": "stream",
     "text": [
      "(10,)\n",
      "10\n",
      "<class 'numpy.ndarray'>\n"
     ]
    },
    {
     "data": {
      "text/plain": [
       "array([10,  8,  3,  1,  3,  8, 10,  6,  4,  2])"
      ]
     },
     "execution_count": 1,
     "metadata": {},
     "output_type": "execute_result"
    }
   ],
   "source": [
    "import numpy as np\n",
    "l1=np.random.randint(1,11,10)\n",
    "print(l1.shape)\n",
    "print(l1.size)\n",
    "print(type(l1))\n",
    "l1\n"
   ]
  },
  {
   "cell_type": "code",
   "execution_count": 2,
   "id": "fc5f9601",
   "metadata": {},
   "outputs": [
    {
     "name": "stdout",
     "output_type": "stream",
     "text": [
      "(3, 3)\n",
      "9\n",
      "<class 'numpy.ndarray'>\n"
     ]
    },
    {
     "data": {
      "text/plain": [
       "array([[3, 1, 4],\n",
       "       [6, 9, 6],\n",
       "       [6, 9, 1]])"
      ]
     },
     "execution_count": 2,
     "metadata": {},
     "output_type": "execute_result"
    }
   ],
   "source": [
    "import numpy as np\n",
    "l2=np.random.randint(1,10,9).reshape(3,3)\n",
    "print(l2.shape)\n",
    "print(l2.size)\n",
    "print(type(l2))\n",
    "l2"
   ]
  },
  {
   "cell_type": "code",
   "execution_count": 3,
   "id": "a73db22f",
   "metadata": {},
   "outputs": [
    {
     "name": "stdout",
     "output_type": "stream",
     "text": [
      "(3, 5, 3)\n",
      "45\n",
      "<class 'numpy.ndarray'>\n"
     ]
    },
    {
     "data": {
      "text/plain": [
       "array([[[0.52282266, 0.99972967, 0.38109164],\n",
       "        [0.7626661 , 0.6818483 , 0.0057706 ],\n",
       "        [0.4112859 , 0.69609923, 0.2267573 ],\n",
       "        [0.79959381, 0.76059472, 0.15441673],\n",
       "        [0.01983729, 0.02487364, 0.0073587 ]],\n",
       "\n",
       "       [[0.23641681, 0.92253536, 0.44588973],\n",
       "        [0.04711062, 0.23342112, 0.98623127],\n",
       "        [0.00428653, 0.14226492, 0.35412724],\n",
       "        [0.88311804, 0.74573824, 0.96948627],\n",
       "        [0.67741079, 0.11400793, 0.17073483]],\n",
       "\n",
       "       [[0.42670688, 0.3197871 , 0.46675823],\n",
       "        [0.41695698, 0.22005472, 0.58872609],\n",
       "        [0.49836232, 0.84916603, 0.17776149],\n",
       "        [0.16506833, 0.92542967, 0.91937926],\n",
       "        [0.57555174, 0.38575608, 0.09312733]]])"
      ]
     },
     "execution_count": 3,
     "metadata": {},
     "output_type": "execute_result"
    }
   ],
   "source": [
    "import numpy as np\n",
    "l3=np.random.rand(3,5,3)\n",
    "print(l3.shape)\n",
    "print(l3.size)\n",
    "print(type(l3))\n",
    "l3"
   ]
  },
  {
   "cell_type": "markdown",
   "id": "64614b90",
   "metadata": {},
   "source": [
    "Task 2: Array Indexing and Slicing:-\n",
    "\n",
    "1. Create a NumPy array from the following list:\n",
    "-->data = [10, 20, 30, 40, 50, 60, 70, 80, 90]\n",
    "2. Write a Python program to:\n",
    "-->Retrieve the first three elements of the array.\n",
    "-->Retrieve every alternate element of the array.\n",
    "-->Reverse the array.\n",
    "3. Perform the above operations and display the results"
   ]
  },
  {
   "cell_type": "code",
   "execution_count": 3,
   "id": "6605d02f",
   "metadata": {},
   "outputs": [
    {
     "name": "stdout",
     "output_type": "stream",
     "text": [
      "[10 20 30]\n",
      "[10 30 50 70 90]\n",
      "[90 80 70 60 50 40 30 20 10]\n"
     ]
    }
   ],
   "source": [
    "import numpy as np\n",
    "data = [10, 20, 30, 40, 50, 60, 70, 80, 90]\n",
    "l1=np.array(data)\n",
    "print(l1[0:3])\n",
    "print(l1[::2])\n",
    "print(l1[::-1])\n"
   ]
  },
  {
   "cell_type": "markdown",
   "id": "c400304b",
   "metadata": {},
   "source": [
    "Task 3: Mathematical Operations:-\n",
    "1. Create two NumPy arrays, A and B, each with 5 random integers between 1 and 20.\n",
    "\n",
    "2. Write a Python program to:-\n",
    "\n",
    "--> Add, subtract, multiply, and divide the two arrays element-wise.\n",
    "--> Compute the dot product of the arrays.\n",
    "--> Find the mean, median, standard deviation, and variance o--> array A.\n",
    "--> Identify the maximum and minimum values in array B and their indices"
   ]
  },
  {
   "cell_type": "code",
   "execution_count": 4,
   "id": "612761c8",
   "metadata": {},
   "outputs": [
    {
     "name": "stdout",
     "output_type": "stream",
     "text": [
      "[16  2 12  9  8]\n",
      "[ 6 19 19  2 12]\n",
      "Addition : [22 21 31 11 20]\n",
      "Subtraction : [ 10 -17  -7   7  -4]\n",
      "Multiplication : [ 96  38 228  18  96]\n",
      "Division: [2.66666667 0.10526316 0.63157895 4.5        0.66666667]\n"
     ]
    }
   ],
   "source": [
    "# Add, subtract, multiply, and divide the two arrays element-wise.\n",
    "import numpy as np\n",
    "A=np.random.randint(1,20,5)\n",
    "B=np.random.randint(1,20,5)\n",
    "print(A)\n",
    "print(B)\n",
    "add=A+B\n",
    "sub=A-B\n",
    "mul=A*B\n",
    "div=A/B\n",
    "print(\"Addition :\",add)\n",
    "print(\"Subtraction :\",sub)\n",
    "print(\"Multiplication :\",mul)\n",
    "print(\"Division:\",div)"
   ]
  },
  {
   "cell_type": "code",
   "execution_count": null,
   "id": "d85eed87",
   "metadata": {},
   "outputs": [
    {
     "name": "stdout",
     "output_type": "stream",
     "text": [
      "[10 10  7 15 14]\n",
      "[ 4 13  8  6 19]\n",
      "582\n"
     ]
    }
   ],
   "source": [
    "# Evaluate the dot product of the array.\n",
    "A=np.random.randint(1,20,5)\n",
    "B=np.random.randint(1,20,5)\n",
    "print(A)\n",
    "print(B)\n",
    "dotProduct = np.dot(A, B)\n",
    "# Or alternatively: Dot product = A @ B\n",
    "print(dotProduct)\n"
   ]
  },
  {
   "cell_type": "code",
   "execution_count": null,
   "id": "041114a3",
   "metadata": {},
   "outputs": [
    {
     "name": "stdout",
     "output_type": "stream",
     "text": [
      "[ 4 19 16  8  8]\n",
      "Mean : 11.0\n",
      "Median : 8.0\n",
      "Standard deviation : 5.585696017507576\n",
      "Varience : 31.2\n"
     ]
    }
   ],
   "source": [
    "# Find mean, median, standard deviation, and variance o --> array A.\n",
    "A=np.random.randint(1,20,5)\n",
    "B=np.random.randint(1,20,5)\n",
    "print(A)\n",
    "print(\"Mean :\",np.mean(A))\n",
    "print(\"Median :\",np.median(A))\n",
    "print(\"Standard deviation :\",np.std(A))\n",
    "print(\"Varience :\",np.var(A))\n"
   ]
  },
  {
   "cell_type": "code",
   "execution_count": 8,
   "id": "4aa9e57a",
   "metadata": {},
   "outputs": [
    {
     "name": "stdout",
     "output_type": "stream",
     "text": [
      "[11  8  2  8 16]\n",
      "Maximum : 16\n",
      "Minimum : 2\n",
      "Maximum idx : 4\n",
      "Minimum idx : 2\n"
     ]
    }
   ],
   "source": [
    "# Identify the maximum and minimum values in array B and their indices\n",
    "A=np.random.randint(1,20,5)\n",
    "B=np.random.randint(1,20,5)\n",
    "print(B)\n",
    "print(\"Maximum :\",np.max(B))\n",
    "print(\"Minimum :\",np.min(B))\n",
    "print(\"Maximum idx :\",np.argmax(B))\n",
    "print(\"Minimum idx :\",np.argmin(B))"
   ]
  },
  {
   "cell_type": "markdown",
   "id": "545711a2",
   "metadata": {},
   "source": [
    "Task 4: Reshaping and Transposing\n",
    "1. Create a 1D NumPy array of 12 integers ranging from 1 to 12.\n",
    "2. Write a Python program to:\n",
    "-->Reshape the array into a 2D array of shape (4, 3).\n",
    "-->Reshape the array into a 3D array of shape (2, 2, 3).\n",
    "-->Transpose the reshaped 2D array and display its shape."
   ]
  },
  {
   "cell_type": "code",
   "execution_count": 7,
   "id": "ca9b37d6",
   "metadata": {},
   "outputs": [
    {
     "name": "stdout",
     "output_type": "stream",
     "text": [
      "[11  3  9  9  2  1  6  2  5  9  7  2]\n",
      "2D Array of Size 4X3\n",
      "[[11  3  9]\n",
      " [ 9  2  1]\n",
      " [ 6  2  5]\n",
      " [ 9  7  2]]\n",
      "3D Array of Size 2X2X3  \n",
      "[[[11  3  9]\n",
      "  [ 9  2  1]]\n",
      "\n",
      " [[ 6  2  5]\n",
      "  [ 9  7  2]]]\n",
      "Transpose of 2D Array\n",
      "[[11  9  6  9]\n",
      " [ 3  2  2  7]\n",
      " [ 9  1  5  2]]\n",
      "Transpose of 2D Array and its shape\n",
      "(3, 4)\n"
     ]
    }
   ],
   "source": [
    "import numpy as np\n",
    "\n",
    "l1=np.random.randint(1,12,12)\n",
    "print(l1)\n",
    "print(\"2D Array of Size 4X3\")\n",
    "print(l1.reshape(4,3))\n",
    "print(\"3D Array of Size 2X2X3  \")\n",
    "print(l1.reshape(2,2,3))\n",
    "print(\"Transpose of 2D Array\")\n",
    "print(np.transpose(l1.reshape(4,3)))\n",
    "print(\"Transpose of 2D Array and its shape\")\n",
    "print(np.transpose(l1.reshape(4,3)).shape)\n"
   ]
  },
  {
   "cell_type": "markdown",
   "id": "b99a1de0",
   "metadata": {},
   "source": [
    "Task 5: Boolean Masking and Filtering:-\n",
    "\n",
    "1. Create a NumPy array with 15 random integers between 10 and 50.\n",
    "2. Write a Python program to:\n",
    "-->Find all elements greater than 25.\n",
    "-->Replace all elements less than 30 with 0.\n",
    "-->Count the number of elements divisible by 5."
   ]
  },
  {
   "cell_type": "code",
   "execution_count": 8,
   "id": "36cbed6d",
   "metadata": {},
   "outputs": [
    {
     "name": "stdout",
     "output_type": "stream",
     "text": [
      "[34 44 11 46 11 38 37 28 19 34 22 39 24 38 12]\n",
      "Numbers Greater than 25 :\n",
      "[34 44 46 38 37 28 34 39 38]\n",
      "Replacing all elements less than 30 with 0 :\n",
      "[34 44  0 46  0 38 37  0  0 34  0 39  0 38  0]\n",
      "number of nonZero elements divisible by 5\n",
      "0\n",
      "number of  elements divisible by 5\n",
      "7\n"
     ]
    }
   ],
   "source": [
    "import numpy as np\n",
    "\n",
    "l2=np.random.randint(10,50,15)\n",
    "print(l2)\n",
    "print(\"Numbers Greater than 25 :\")\n",
    "print(l2[l2>25])\n",
    "print(\"Replacing all elements less than 30 with 0 :\")\n",
    "l2[l2<30]=0\n",
    "print(l2)\n",
    "print(\"number of nonZero elements divisible by 5\")\n",
    "print(np.count_nonzero(l2[l2%5==0]))\n",
    "print(\"number of  elements divisible by 5\")\n",
    "print(np.count_nonzero(l2%5==0))\n"
   ]
  },
  {
   "cell_type": "markdown",
   "id": "cf4a5c72",
   "metadata": {},
   "source": [
    "Task 6: Working with Built-in Functions:-\n",
    "\n",
    "1. Use NumPy's built-in functions to:\n",
    "-->Create an array of 10 equally spaced values between 0 and 1.\n",
    "-->Create an identity matrix of size 4x4.\n",
    "-->Generate a 1D array of 20 random integers between 1 and 100, sort it, and find the 5 largest elements."
   ]
  },
  {
   "cell_type": "code",
   "execution_count": 9,
   "id": "b1fcbe70",
   "metadata": {},
   "outputs": [
    {
     "name": "stdout",
     "output_type": "stream",
     "text": [
      "Array of 10 equally spaced values between 0 and 1 \n",
      "\n",
      "[0.         0.11111111 0.22222222 0.33333333 0.44444444 0.55555556\n",
      " 0.66666667 0.77777778 0.88888889 1.        ]\n"
     ]
    }
   ],
   "source": [
    "# Create an array of 10 equally spaced values between 0 and 1.\n",
    "import numpy as np\n",
    "l1=np.linspace(0,1,10)\n",
    "print(\"Array of 10 equally spaced values between 0 and 1 \\n\")\n",
    "print(l1)"
   ]
  },
  {
   "cell_type": "code",
   "execution_count": 10,
   "id": "a89f452a",
   "metadata": {},
   "outputs": [
    {
     "name": "stdout",
     "output_type": "stream",
     "text": [
      "[[1 0 0 0]\n",
      " [0 1 0 0]\n",
      " [0 0 1 0]\n",
      " [0 0 0 1]]\n"
     ]
    }
   ],
   "source": [
    "# Create an identity matrix of size 4x4.\n",
    "import numpy as np\n",
    "print(np.eye(4,dtype=\"int\"))"
   ]
  },
  {
   "cell_type": "code",
   "execution_count": 11,
   "id": "d6abe363",
   "metadata": {},
   "outputs": [
    {
     "name": "stdout",
     "output_type": "stream",
     "text": [
      "Original Array :-\n",
      "[15 98 83 65  1 65 37 90 38 40 12 89 96 39 99 57 67 34 16 67]\n",
      "Sorted Array :-\n",
      "[ 1 12 15 16 34 37 38 39 40 57 65 65 67 67 83 89 90 96 98 99]\n",
      "5 largest elements\n",
      "[99 98 96 90 89]\n"
     ]
    }
   ],
   "source": [
    "# Generate a 1D array of 20 random integers between 1 and 100, sort it, and find the 5 largest elements.\n",
    "\n",
    "import numpy as np\n",
    "l3=np.random.randint(1,100,20)\n",
    "print(\"Original Array :-\")\n",
    "print(l3)\n",
    "print(\"Sorted Array :-\")\n",
    "print(np.sort(l3))\n",
    "print(\"5 largest elements\")\n",
    "print(np.sort(l3)[-5:][::-1])"
   ]
  },
  {
   "cell_type": "markdown",
   "id": "e2cfbeb9",
   "metadata": {},
   "source": [
    "Task 7: Generic:-\n",
    "\n",
    "1. Create a Python program that:\n",
    "-->Generates two large random arrays of size (100, 100).\n",
    "-->Performs matrix multiplication on the two arrays.\n",
    "-->Finds the determinant and inverse of the resulting matrix (if possible).\n",
    "-->Measures the time taken to complete these operations."
   ]
  },
  {
   "cell_type": "code",
   "execution_count": 16,
   "id": "79778f07",
   "metadata": {},
   "outputs": [
    {
     "name": "stdout",
     "output_type": "stream",
     "text": [
      "Operation Start time :1752425379.195773 \n",
      "\n",
      "Matrix multiplication completed.\n",
      "\n",
      "[[21.75399327 20.36340888 23.30067232 ... 23.59167258 22.41250531\n",
      "  22.32949586]\n",
      " [25.6837068  25.29882732 26.07649043 ... 26.75327959 26.37715329\n",
      "  24.98034235]\n",
      " [23.55162121 22.1793393  24.01140904 ... 25.53651203 24.52247255\n",
      "  23.25683562]\n",
      " ...\n",
      " [23.30194424 23.27018632 22.99405875 ... 24.75863679 24.20947525\n",
      "  23.33277814]\n",
      " [24.05590866 23.40148562 23.66693868 ... 26.10955322 26.62555296\n",
      "  24.63028681]\n",
      " [26.96790402 25.59493582 26.23453418 ... 26.6366106  27.31808989\n",
      "  26.34742146]] \n",
      "\n",
      "Determinant of the result: 1.4268655448370525e+50 \n",
      "\n",
      "Operation end time :1752425379.19808 \n",
      "\n",
      "Matrix is invertible.\n",
      "Inverse matrix calculated successfully.\n",
      "[[-1.28677370e-02 -9.37369124e-01  6.60189695e-01 ... -1.94028104e-01\n",
      "   1.87337566e-01 -9.79801642e-02]\n",
      " [-2.72365909e+00  6.70567121e+00  1.86587825e+00 ... -2.34153153e+00\n",
      "   2.00942864e+00 -1.76475698e+00]\n",
      " [-4.16567294e+00  1.03699312e+01  1.65987980e+00 ... -3.46140106e+00\n",
      "   3.39791766e+00 -2.48994214e+00]\n",
      " ...\n",
      " [-3.18295408e+00  4.74312555e+00  1.87118990e+00 ... -2.86701019e+00\n",
      "   2.58689773e+00 -1.87528255e+00]\n",
      " [-7.28346914e+00  1.52119407e+01  4.15094358e+00 ... -5.97260608e+00\n",
      "   5.08114497e+00 -4.62359260e+00]\n",
      " [-1.38169267e-01 -8.05589322e-01  4.61320100e-01 ...  5.34271429e-03\n",
      "  -1.53639583e-01  7.64820009e-03]] \n",
      "\n",
      "Time taken: 0.0023 seconds\n"
     ]
    }
   ],
   "source": [
    "import numpy as np\n",
    "import time\n",
    "\n",
    "# Step 1: Generate two random 100x100 arrays\n",
    "A = np.random.rand(100, 100)\n",
    "B = np.random.rand(100, 100)\n",
    "\n",
    "# Step 2: Start the timer\n",
    "start_time = time.time()\n",
    "print(f\"Operation Start time :{start_time} \\n\")\n",
    "\n",
    "# Step 3: Matrix multiplication\n",
    "C = np.dot(A, B)\n",
    "print(\"Matrix multiplication completed.\\n\")\n",
    "print(C,\"\\n\")\n",
    "\n",
    "\n",
    "# Step 4: Calculate determinant\n",
    "det_C = np.linalg.det(C)\n",
    "print(f\"Determinant of the result: {det_C} \\n\")\n",
    "\n",
    "\n",
    "# Step 5: Try to calculate inverse if determinant is not zero\n",
    "if np.isclose(det_C, 0):\n",
    "    inverse_C = None\n",
    "    invertible = False\n",
    "else:\n",
    "    inverse_C = np.linalg.inv(C)\n",
    "    invertible = True\n",
    "\n",
    "# Step 6: End the timer\n",
    "end_time = time.time()\n",
    "print(f\"Operation end time :{end_time} \\n\")\n",
    "\n",
    "operationtime = end_time - start_time\n",
    "\n",
    "# Step 7: Print results\n",
    "print(\"Matrix is invertible.\" if invertible else \"Matrix is not invertible.\")\n",
    "if invertible:\n",
    "    print(\"Inverse matrix calculated successfully.\")\n",
    "    print(inverse_C,\"\\n\")\n",
    "print(f\"Time taken: {operationtime:.4f} seconds\")\n"
   ]
  },
  {
   "cell_type": "code",
   "execution_count": null,
   "id": "633b03e2",
   "metadata": {},
   "outputs": [],
   "source": []
  }
 ],
 "metadata": {
  "kernelspec": {
   "display_name": "Python 3",
   "language": "python",
   "name": "python3"
  },
  "language_info": {
   "codemirror_mode": {
    "name": "ipython",
    "version": 3
   },
   "file_extension": ".py",
   "mimetype": "text/x-python",
   "name": "python",
   "nbconvert_exporter": "python",
   "pygments_lexer": "ipython3",
   "version": "3.9.6"
  }
 },
 "nbformat": 4,
 "nbformat_minor": 5
}
