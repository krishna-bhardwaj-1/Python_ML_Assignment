{
 "cells": [
  {
   "cell_type": "markdown",
   "id": "c34c1501",
   "metadata": {},
   "source": [
    "1. Make a custom exception\n",
    "2. Make a 2-d array and read and write it in a csv format"
   ]
  },
  {
   "cell_type": "code",
   "execution_count": 6,
   "id": "68291dcb",
   "metadata": {},
   "outputs": [
    {
     "name": "stdout",
     "output_type": "stream",
     "text": [
      "Invalid input! I think this is not your age type\n"
     ]
    }
   ],
   "source": [
    "# 1. Make a custom exception\n",
    "try:\n",
    "    age = int(input(\"enter the age\"))\n",
    "    if(age < 18):\n",
    "        raise Exception(\"you are not eligible for vote\")\n",
    "except ValueError:\n",
    "    print(\"Invalid input! I think this is not your age type\")\n"
   ]
  },
  {
   "cell_type": "code",
   "execution_count": 1,
   "id": "8349ea9b",
   "metadata": {},
   "outputs": [],
   "source": [
    "#Make a 2-d array and read and write it in a csv format\n",
    "\n",
    "l=[['M1', 'M2', 'M3', 'M4'],\n",
    "   ['10', '20', '30', '40'],\n",
    "   ['50', '60', '60', '70'],\n",
    "   ['80', '90', '100', '110']\n",
    "   ]"
   ]
  },
  {
   "cell_type": "code",
   "execution_count": 2,
   "id": "386f6598",
   "metadata": {},
   "outputs": [],
   "source": [
    "with open('write.csv','w') as f:\n",
    "    for list in l:\n",
    "        f.write(','.join(map(str,list)))\n",
    "        f.write('\\n')"
   ]
  },
  {
   "cell_type": "code",
   "execution_count": 3,
   "id": "c50407e0",
   "metadata": {},
   "outputs": [
    {
     "name": "stdout",
     "output_type": "stream",
     "text": [
      "20\n"
     ]
    }
   ],
   "source": [
    "a=20\n",
    "print(a)"
   ]
  },
  {
   "cell_type": "code",
   "execution_count": 4,
   "id": "cb526817",
   "metadata": {},
   "outputs": [
    {
     "name": "stdout",
     "output_type": "stream",
     "text": [
      "M1,M2,M3,M4\n",
      "10,20,30,40\n",
      "50,60,60,70\n",
      "80,90,100,110\n",
      "\n"
     ]
    }
   ],
   "source": [
    "with open('write.csv','r') as f:\n",
    "    f.seek(0)\n",
    "    print(f.read())"
   ]
  }
 ],
 "metadata": {
  "kernelspec": {
   "display_name": "myenv",
   "language": "python",
   "name": "python3"
  },
  "language_info": {
   "codemirror_mode": {
    "name": "ipython",
    "version": 3
   },
   "file_extension": ".py",
   "mimetype": "text/x-python",
   "name": "python",
   "nbconvert_exporter": "python",
   "pygments_lexer": "ipython3",
   "version": "3.13.5"
  }
 },
 "nbformat": 4,
 "nbformat_minor": 5
}
